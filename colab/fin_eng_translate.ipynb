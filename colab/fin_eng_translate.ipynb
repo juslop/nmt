{
  "nbformat": 4,
  "nbformat_minor": 0,
  "metadata": {
    "colab": {
      "name": "fin-eng-translate.ipynb",
      "version": "0.3.2",
      "provenance": [],
      "collapsed_sections": []
    },
    "kernelspec": {
      "name": "python3",
      "display_name": "Python 3"
    },
    "accelerator": "GPU"
  },
  "cells": [
    {
      "cell_type": "code",
      "metadata": {
        "id": "F2hFgFtap-Zu",
        "colab_type": "code",
        "colab": {}
      },
      "source": [
        "#interactive finnish to english translation with 6 LSTM layer model\n",
        "#encoder has 3 bidirectional layers, decoder 6 unidir LSTM layers, Banhdanau attention\n",
        "#model trained with 2.5M translated sentences for 36 hours with 2 Nvidia GTX 1060 6GB cards.\n",
        "#english vocabulary 65 kwords, finnish voc 286 kwords\n",
        "!git clone https://github.com/juslop/nmt.git\n",
        "!pip install --upgrade tables\n",
        "!pip install deepdish"
      ],
      "execution_count": 0,
      "outputs": []
    },
    {
      "cell_type": "code",
      "metadata": {
        "id": "HAwVzrfesg8W",
        "colab_type": "code",
        "colab": {}
      },
      "source": [
        "from google.colab import drive\n",
        "drive.mount(\"/content/gdrive\")"
      ],
      "execution_count": 0,
      "outputs": []
    },
    {
      "cell_type": "code",
      "metadata": {
        "id": "Dwi7isedMzZD",
        "colab_type": "code",
        "colab": {}
      },
      "source": [
        "#upload weights and dictionary files for reading, in this case they are in gdrive\n",
        "import tarfile, os\n",
        "path_to_tarballs = \"/content/gdrive/My Drive/tf_translator_weights_and_dictionaries\"\n",
        "embeddings = os.path.join(path_to_tarballs, \"finnish-english-dct-embeddings.tar.gz\")\n",
        "weights = os.path.join(path_to_tarballs, \"finnish-english-weights.tar.gz\")\n",
        "with tarfile.open(weights) as tb:\n",
        "    tb.extractall(path=\"nmt\")\n",
        "with tarfile.open(embeddings) as tb:\n",
        "    tb.extractall(path=\"nmt\")"
      ],
      "execution_count": 0,
      "outputs": []
    },
    {
      "cell_type": "code",
      "metadata": {
        "id": "xC8MxDDsuvP8",
        "colab_type": "code",
        "colab": {}
      },
      "source": [
        "%cd nmt\n",
        "!cp configs/finnish-english.json config.json\n",
        "!python translate.py translate"
      ],
      "execution_count": 0,
      "outputs": []
    }
  ]
}